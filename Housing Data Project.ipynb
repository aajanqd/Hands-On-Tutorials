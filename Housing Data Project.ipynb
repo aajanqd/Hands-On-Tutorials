{
 "cells": [
  {
   "cell_type": "markdown",
   "metadata": {},
   "source": [
    "Highlights of this notebook are:\n",
    "\n",
    "- **Describe and visualize your data**\n",
    "    - The .describe() method gives you easy access to important statistics for each column, including the mean, std, variance, and other metrics.\n",
    "    - You can plot the histogram of the entire dataframe by simply using df.hist(). bins is used to tell you how many \"stacks\" are in each histogram.\n",
    "    - sklearn makes it easy to do stratified sampling. While random sampling is generally fine when you have a large dataset, stratified sampling can help ensure that you ensure that your test and train sets are representative of the whole dataset. \n",
    "    - Plotting your data using .plot() and setting the hyperparameter cmap='jet' gives your visualization cool colors!\n",
    "- **Data Preprocessing**\n",
    "    - There are several important preprocessing techniques that can be combined using sklearn's Pipeline and ColumnTransformer transformers (remember transformers are estimators with fit and transform methods, as well as fit_transform). fit_transform is used to transform the training data using the mean and variance of the training data; transform is used to transform the test data using the mean and variance of the training data - this is done to keep the distribution of the test data unknown to the model.\n",
    "        - transform: Perform standardization by centering and scaling.\n",
    "        - fit: Compute the mean and std to be used for later scaling.\n",
    "        - fit_transform: Fit to data, then transform it.\n",
    "    - Pipeline is generally used to combine the preprocessing for numerical attributes.\n",
    "    - The pipeline you create can be input into ColumnTransformer, which can simultaneously execute the pipeline and deal with non-numerical attributes (e.g. one-hot encoding them)\n",
    "    - You can make your own transformer by constructing a class and defining init, fit, transform, and fit_transform methods. In our example, we explicitly define fit and transform, and then get fit_transform by defining TransformerMixin as a base class.\n",
    "- **Fitting and Testing a Model**\n",
    "    - Choose your model, then fit the model using the .fit() method.\n",
    "    - Cross validation is important to ensure you're not overfitting your model to the training data. GridSearchCV automatically does cross validation as well as fine-tunes the model by doing a grid search on the parameters your give it. (This is good when the search space is small, otherwise consider using RandomizedSearchCV). \n",
    "    - CV Scores for each model cane be obtained by using grid_search.cv_results_. Scoring method is determined by the scoring hyperparameter (eg scoring='neg_mean_squared_error').\n",
    "    - The best model/parameter combination can be found using grid_search.best_estimator_.\n",
    "    - Feature importances can be found using grid_search.best_estimator_.feature_importances_.\n",
    "    - After testing, it's good to create a 95% confidence interval around the final test rmse to demonstrate its efficacy as compared to other models\n",
    "- **Launching a Model into Production**\n",
    "    - It is good to retrain your model on fresh data because the model may become stale (data seasonality or other changes that cannot be accounted for can be effectively incorporated into the model by retraining on new data)."
   ]
  },
  {
   "cell_type": "code",
   "execution_count": 1,
   "metadata": {},
   "outputs": [],
   "source": [
    "import os\n",
    "import tarfile\n",
    "from six.moves import urllib"
   ]
  },
  {
   "cell_type": "markdown",
   "metadata": {},
   "source": [
    "# Download Data"
   ]
  },
  {
   "cell_type": "code",
   "execution_count": 2,
   "metadata": {},
   "outputs": [],
   "source": [
    "DOWNLOAD_ROOT = \"https://raw.githubusercontent.com/ageron/handson-ml2/master/\"\n",
    "HOUSING_PATH = os.path.join(\"datasets\", \"housing\")\n",
    "HOUSING_URL = DOWNLOAD_ROOT + \"datasets/housing/housing.tgz\"\n",
    "\n",
    "def fetch_housing_data(housing_url=HOUSING_URL, housing_path=HOUSING_PATH):\n",
    "    if not os.path.isdir(housing_path):\n",
    "        os.makedirs(housing_path)\n",
    "    tgz_path = os.path.join(housing_path, \"housing.tgz\")\n",
    "    urllib.request.urlretrieve(housing_url, tgz_path)\n",
    "    housing_tgz = tarfile.open(tgz_path)\n",
    "    housing_tgz.extractall(path=housing_path)\n",
    "    housing_tgz.close()"
   ]
  },
  {
   "cell_type": "code",
   "execution_count": 3,
   "metadata": {},
   "outputs": [],
   "source": [
    "import pandas as pd\n",
    "\n",
    "def load_housing_data(housing_path=HOUSING_PATH):\n",
    "    csv_path = os.path.join(housing_path, \"housing.csv\")\n",
    "    return pd.read_csv(csv_path)"
   ]
  },
  {
   "cell_type": "code",
   "execution_count": 4,
   "metadata": {},
   "outputs": [
    {
     "data": {
      "text/html": [
       "<div>\n",
       "<style scoped>\n",
       "    .dataframe tbody tr th:only-of-type {\n",
       "        vertical-align: middle;\n",
       "    }\n",
       "\n",
       "    .dataframe tbody tr th {\n",
       "        vertical-align: top;\n",
       "    }\n",
       "\n",
       "    .dataframe thead th {\n",
       "        text-align: right;\n",
       "    }\n",
       "</style>\n",
       "<table border=\"1\" class=\"dataframe\">\n",
       "  <thead>\n",
       "    <tr style=\"text-align: right;\">\n",
       "      <th></th>\n",
       "      <th>longitude</th>\n",
       "      <th>latitude</th>\n",
       "      <th>housing_median_age</th>\n",
       "      <th>total_rooms</th>\n",
       "      <th>total_bedrooms</th>\n",
       "      <th>population</th>\n",
       "      <th>households</th>\n",
       "      <th>median_income</th>\n",
       "      <th>median_house_value</th>\n",
       "      <th>ocean_proximity</th>\n",
       "    </tr>\n",
       "  </thead>\n",
       "  <tbody>\n",
       "    <tr>\n",
       "      <th>0</th>\n",
       "      <td>-122.23</td>\n",
       "      <td>37.88</td>\n",
       "      <td>41.0</td>\n",
       "      <td>880.0</td>\n",
       "      <td>129.0</td>\n",
       "      <td>322.0</td>\n",
       "      <td>126.0</td>\n",
       "      <td>8.3252</td>\n",
       "      <td>452600.0</td>\n",
       "      <td>NEAR BAY</td>\n",
       "    </tr>\n",
       "    <tr>\n",
       "      <th>1</th>\n",
       "      <td>-122.22</td>\n",
       "      <td>37.86</td>\n",
       "      <td>21.0</td>\n",
       "      <td>7099.0</td>\n",
       "      <td>1106.0</td>\n",
       "      <td>2401.0</td>\n",
       "      <td>1138.0</td>\n",
       "      <td>8.3014</td>\n",
       "      <td>358500.0</td>\n",
       "      <td>NEAR BAY</td>\n",
       "    </tr>\n",
       "    <tr>\n",
       "      <th>2</th>\n",
       "      <td>-122.24</td>\n",
       "      <td>37.85</td>\n",
       "      <td>52.0</td>\n",
       "      <td>1467.0</td>\n",
       "      <td>190.0</td>\n",
       "      <td>496.0</td>\n",
       "      <td>177.0</td>\n",
       "      <td>7.2574</td>\n",
       "      <td>352100.0</td>\n",
       "      <td>NEAR BAY</td>\n",
       "    </tr>\n",
       "    <tr>\n",
       "      <th>3</th>\n",
       "      <td>-122.25</td>\n",
       "      <td>37.85</td>\n",
       "      <td>52.0</td>\n",
       "      <td>1274.0</td>\n",
       "      <td>235.0</td>\n",
       "      <td>558.0</td>\n",
       "      <td>219.0</td>\n",
       "      <td>5.6431</td>\n",
       "      <td>341300.0</td>\n",
       "      <td>NEAR BAY</td>\n",
       "    </tr>\n",
       "    <tr>\n",
       "      <th>4</th>\n",
       "      <td>-122.25</td>\n",
       "      <td>37.85</td>\n",
       "      <td>52.0</td>\n",
       "      <td>1627.0</td>\n",
       "      <td>280.0</td>\n",
       "      <td>565.0</td>\n",
       "      <td>259.0</td>\n",
       "      <td>3.8462</td>\n",
       "      <td>342200.0</td>\n",
       "      <td>NEAR BAY</td>\n",
       "    </tr>\n",
       "  </tbody>\n",
       "</table>\n",
       "</div>"
      ],
      "text/plain": [
       "   longitude  latitude  housing_median_age  total_rooms  total_bedrooms  \\\n",
       "0    -122.23     37.88                41.0        880.0           129.0   \n",
       "1    -122.22     37.86                21.0       7099.0          1106.0   \n",
       "2    -122.24     37.85                52.0       1467.0           190.0   \n",
       "3    -122.25     37.85                52.0       1274.0           235.0   \n",
       "4    -122.25     37.85                52.0       1627.0           280.0   \n",
       "\n",
       "   population  households  median_income  median_house_value ocean_proximity  \n",
       "0       322.0       126.0         8.3252            452600.0        NEAR BAY  \n",
       "1      2401.0      1138.0         8.3014            358500.0        NEAR BAY  \n",
       "2       496.0       177.0         7.2574            352100.0        NEAR BAY  \n",
       "3       558.0       219.0         5.6431            341300.0        NEAR BAY  \n",
       "4       565.0       259.0         3.8462            342200.0        NEAR BAY  "
      ]
     },
     "execution_count": 4,
     "metadata": {},
     "output_type": "execute_result"
    }
   ],
   "source": [
    "fetch_housing_data()\n",
    "housing = load_housing_data()\n",
    "housing.head()"
   ]
  },
  {
   "cell_type": "code",
   "execution_count": 5,
   "metadata": {},
   "outputs": [
    {
     "data": {
      "text/plain": [
       "<1H OCEAN     9136\n",
       "INLAND        6551\n",
       "NEAR OCEAN    2658\n",
       "NEAR BAY      2290\n",
       "ISLAND           5\n",
       "Name: ocean_proximity, dtype: int64"
      ]
     },
     "execution_count": 5,
     "metadata": {},
     "output_type": "execute_result"
    }
   ],
   "source": [
    "housing[\"ocean_proximity\"].value_counts()"
   ]
  },
  {
   "cell_type": "markdown",
   "metadata": {},
   "source": [
    "# Describe and Visualize Data"
   ]
  },
  {
   "cell_type": "code",
   "execution_count": 6,
   "metadata": {},
   "outputs": [
    {
     "data": {
      "text/html": [
       "<div>\n",
       "<style scoped>\n",
       "    .dataframe tbody tr th:only-of-type {\n",
       "        vertical-align: middle;\n",
       "    }\n",
       "\n",
       "    .dataframe tbody tr th {\n",
       "        vertical-align: top;\n",
       "    }\n",
       "\n",
       "    .dataframe thead th {\n",
       "        text-align: right;\n",
       "    }\n",
       "</style>\n",
       "<table border=\"1\" class=\"dataframe\">\n",
       "  <thead>\n",
       "    <tr style=\"text-align: right;\">\n",
       "      <th></th>\n",
       "      <th>longitude</th>\n",
       "      <th>latitude</th>\n",
       "      <th>housing_median_age</th>\n",
       "      <th>total_rooms</th>\n",
       "      <th>total_bedrooms</th>\n",
       "      <th>population</th>\n",
       "      <th>households</th>\n",
       "      <th>median_income</th>\n",
       "      <th>median_house_value</th>\n",
       "    </tr>\n",
       "  </thead>\n",
       "  <tbody>\n",
       "    <tr>\n",
       "      <th>count</th>\n",
       "      <td>20640.000000</td>\n",
       "      <td>20640.000000</td>\n",
       "      <td>20640.000000</td>\n",
       "      <td>20640.000000</td>\n",
       "      <td>20433.000000</td>\n",
       "      <td>20640.000000</td>\n",
       "      <td>20640.000000</td>\n",
       "      <td>20640.000000</td>\n",
       "      <td>20640.000000</td>\n",
       "    </tr>\n",
       "    <tr>\n",
       "      <th>mean</th>\n",
       "      <td>-119.569704</td>\n",
       "      <td>35.631861</td>\n",
       "      <td>28.639486</td>\n",
       "      <td>2635.763081</td>\n",
       "      <td>537.870553</td>\n",
       "      <td>1425.476744</td>\n",
       "      <td>499.539680</td>\n",
       "      <td>3.870671</td>\n",
       "      <td>206855.816909</td>\n",
       "    </tr>\n",
       "    <tr>\n",
       "      <th>std</th>\n",
       "      <td>2.003532</td>\n",
       "      <td>2.135952</td>\n",
       "      <td>12.585558</td>\n",
       "      <td>2181.615252</td>\n",
       "      <td>421.385070</td>\n",
       "      <td>1132.462122</td>\n",
       "      <td>382.329753</td>\n",
       "      <td>1.899822</td>\n",
       "      <td>115395.615874</td>\n",
       "    </tr>\n",
       "    <tr>\n",
       "      <th>min</th>\n",
       "      <td>-124.350000</td>\n",
       "      <td>32.540000</td>\n",
       "      <td>1.000000</td>\n",
       "      <td>2.000000</td>\n",
       "      <td>1.000000</td>\n",
       "      <td>3.000000</td>\n",
       "      <td>1.000000</td>\n",
       "      <td>0.499900</td>\n",
       "      <td>14999.000000</td>\n",
       "    </tr>\n",
       "    <tr>\n",
       "      <th>25%</th>\n",
       "      <td>-121.800000</td>\n",
       "      <td>33.930000</td>\n",
       "      <td>18.000000</td>\n",
       "      <td>1447.750000</td>\n",
       "      <td>296.000000</td>\n",
       "      <td>787.000000</td>\n",
       "      <td>280.000000</td>\n",
       "      <td>2.563400</td>\n",
       "      <td>119600.000000</td>\n",
       "    </tr>\n",
       "    <tr>\n",
       "      <th>50%</th>\n",
       "      <td>-118.490000</td>\n",
       "      <td>34.260000</td>\n",
       "      <td>29.000000</td>\n",
       "      <td>2127.000000</td>\n",
       "      <td>435.000000</td>\n",
       "      <td>1166.000000</td>\n",
       "      <td>409.000000</td>\n",
       "      <td>3.534800</td>\n",
       "      <td>179700.000000</td>\n",
       "    </tr>\n",
       "    <tr>\n",
       "      <th>75%</th>\n",
       "      <td>-118.010000</td>\n",
       "      <td>37.710000</td>\n",
       "      <td>37.000000</td>\n",
       "      <td>3148.000000</td>\n",
       "      <td>647.000000</td>\n",
       "      <td>1725.000000</td>\n",
       "      <td>605.000000</td>\n",
       "      <td>4.743250</td>\n",
       "      <td>264725.000000</td>\n",
       "    </tr>\n",
       "    <tr>\n",
       "      <th>max</th>\n",
       "      <td>-114.310000</td>\n",
       "      <td>41.950000</td>\n",
       "      <td>52.000000</td>\n",
       "      <td>39320.000000</td>\n",
       "      <td>6445.000000</td>\n",
       "      <td>35682.000000</td>\n",
       "      <td>6082.000000</td>\n",
       "      <td>15.000100</td>\n",
       "      <td>500001.000000</td>\n",
       "    </tr>\n",
       "  </tbody>\n",
       "</table>\n",
       "</div>"
      ],
      "text/plain": [
       "          longitude      latitude  housing_median_age   total_rooms  \\\n",
       "count  20640.000000  20640.000000        20640.000000  20640.000000   \n",
       "mean    -119.569704     35.631861           28.639486   2635.763081   \n",
       "std        2.003532      2.135952           12.585558   2181.615252   \n",
       "min     -124.350000     32.540000            1.000000      2.000000   \n",
       "25%     -121.800000     33.930000           18.000000   1447.750000   \n",
       "50%     -118.490000     34.260000           29.000000   2127.000000   \n",
       "75%     -118.010000     37.710000           37.000000   3148.000000   \n",
       "max     -114.310000     41.950000           52.000000  39320.000000   \n",
       "\n",
       "       total_bedrooms    population    households  median_income  \\\n",
       "count    20433.000000  20640.000000  20640.000000   20640.000000   \n",
       "mean       537.870553   1425.476744    499.539680       3.870671   \n",
       "std        421.385070   1132.462122    382.329753       1.899822   \n",
       "min          1.000000      3.000000      1.000000       0.499900   \n",
       "25%        296.000000    787.000000    280.000000       2.563400   \n",
       "50%        435.000000   1166.000000    409.000000       3.534800   \n",
       "75%        647.000000   1725.000000    605.000000       4.743250   \n",
       "max       6445.000000  35682.000000   6082.000000      15.000100   \n",
       "\n",
       "       median_house_value  \n",
       "count        20640.000000  \n",
       "mean        206855.816909  \n",
       "std         115395.615874  \n",
       "min          14999.000000  \n",
       "25%         119600.000000  \n",
       "50%         179700.000000  \n",
       "75%         264725.000000  \n",
       "max         500001.000000  "
      ]
     },
     "execution_count": 6,
     "metadata": {},
     "output_type": "execute_result"
    }
   ],
   "source": [
    "housing.describe()\n",
    "#this ignores null values - therefore count for total bedrooms "
   ]
  },
  {
   "cell_type": "code",
   "execution_count": 7,
   "metadata": {},
   "outputs": [
    {
     "data": {
      "image/png": "[encoded data removed]",
      "text/plain": [
       "<Figure size 1440x1080 with 9 Axes>"
      ]
     },
     "metadata": {
      "needs_background": "light"
     },
     "output_type": "display_data"
    }
   ],
   "source": [
    "%matplotlib inline\n",
    "import matplotlib.pyplot as plt\n",
    "housing.hist(bins=50, figsize=(20,15))\n",
    "plt.show()"
   ]
  },
  {
   "cell_type": "code",
   "execution_count": 8,
   "metadata": {},
   "outputs": [],
   "source": [
    "from sklearn.model_selection import train_test_split\n",
    "train_set, test_set = train_test_split(housing, test_size=0.2, random_state=42)\n",
    "\n",
    "#random state is used to ensure you use the same train and test sets each time you load the dataset"
   ]
  },
  {
   "cell_type": "code",
   "execution_count": 9,
   "metadata": {},
   "outputs": [
    {
     "data": {
      "text/html": [
       "<div>\n",
       "<style scoped>\n",
       "    .dataframe tbody tr th:only-of-type {\n",
       "        vertical-align: middle;\n",
       "    }\n",
       "\n",
       "    .dataframe tbody tr th {\n",
       "        vertical-align: top;\n",
       "    }\n",
       "\n",
       "    .dataframe thead th {\n",
       "        text-align: right;\n",
       "    }\n",
       "</style>\n",
       "<table border=\"1\" class=\"dataframe\">\n",
       "  <thead>\n",
       "    <tr style=\"text-align: right;\">\n",
       "      <th></th>\n",
       "      <th>index</th>\n",
       "      <th>income_cat</th>\n",
       "    </tr>\n",
       "  </thead>\n",
       "  <tbody>\n",
       "    <tr>\n",
       "      <th>0</th>\n",
       "      <td>3</td>\n",
       "      <td>7236</td>\n",
       "    </tr>\n",
       "    <tr>\n",
       "      <th>1</th>\n",
       "      <td>2</td>\n",
       "      <td>6581</td>\n",
       "    </tr>\n",
       "    <tr>\n",
       "      <th>2</th>\n",
       "      <td>4</td>\n",
       "      <td>3639</td>\n",
       "    </tr>\n",
       "    <tr>\n",
       "      <th>3</th>\n",
       "      <td>5</td>\n",
       "      <td>2362</td>\n",
       "    </tr>\n",
       "    <tr>\n",
       "      <th>4</th>\n",
       "      <td>1</td>\n",
       "      <td>822</td>\n",
       "    </tr>\n",
       "  </tbody>\n",
       "</table>\n",
       "</div>"
      ],
      "text/plain": [
       "  index  income_cat\n",
       "0     3        7236\n",
       "1     2        6581\n",
       "2     4        3639\n",
       "3     5        2362\n",
       "4     1         822"
      ]
     },
     "execution_count": 9,
     "metadata": {},
     "output_type": "execute_result"
    }
   ],
   "source": [
    "#Stratified sampling aims at splitting a data set so that each split is similar with respect to something. \n",
    "#In a classification setting, it is often chosen to ensure that the train and test sets have approximately the same \n",
    "    #percentage of samples of each target class as the complete set.\n",
    "#pd.cut makes strata (income categories in this case) so you can determine how to split up data\n",
    "#note that the results are based on labels, and counts are based on number of instances under those labels\n",
    "import numpy as np\n",
    "housing[\"income_cat\"] = pd.cut(housing[\"median_income\"],\n",
    "                                   bins=[0., 1.5, 3.0, 4.5, 6., np.inf],\n",
    "                                labels=[1, 2, 3, 4, 5])\n",
    "housing['income_cat'].value_counts().reset_index()"
   ]
  },
  {
   "cell_type": "code",
   "execution_count": 10,
   "metadata": {},
   "outputs": [],
   "source": [
    "#this does stratified sampling based on strata created using pd.cut\n",
    "from sklearn.model_selection import StratifiedShuffleSplit\n",
    "split = StratifiedShuffleSplit(n_splits=1, test_size=0.2, random_state=42) \n",
    "for train_index, test_index in split.split(housing, housing[\"income_cat\"]):\n",
    "        strat_train_set = housing.loc[train_index]\n",
    "        strat_test_set = housing.loc[test_index]"
   ]
  },
  {
   "cell_type": "code",
   "execution_count": 12,
   "metadata": {},
   "outputs": [
    {
     "data": {
      "text/plain": [
       "<matplotlib.axes._subplots.AxesSubplot at 0x12db46b50>"
      ]
     },
     "execution_count": 12,
     "metadata": {},
     "output_type": "execute_result"
    },
    {
     "data": {
      "image/png": "[encoded data removed]",
      "text/plain": [
       "<Figure size 432x288 with 1 Axes>"
      ]
     },
     "metadata": {
      "needs_background": "light"
     },
     "output_type": "display_data"
    }
   ],
   "source": [
    "#we can use alpha to determine the opacity of the dots - this reveals a trend about the housing density in CA\n",
    "#note that x (longitude) and y (latitude) are columns in housing\n",
    "housing.plot(kind=\"scatter\", x=\"longitude\", y=\"latitude\", alpha=0.1)"
   ]
  },
  {
   "cell_type": "code",
   "execution_count": 13,
   "metadata": {},
   "outputs": [
    {
     "data": {
      "text/plain": [
       "<matplotlib.legend.Legend at 0x12dca76d0>"
      ]
     },
     "execution_count": 13,
     "metadata": {},
     "output_type": "execute_result"
    },
    {
     "data": {
      "image/png": "[encoded data removed]",
      "text/plain": [
       "<Figure size 720x504 with 2 Axes>"
      ]
     },
     "metadata": {
      "needs_background": "light"
     },
     "output_type": "display_data"
    }
   ],
   "source": [
    "#s determines size of dots, category tells you how to determine size\n",
    "    #s=housing[\"population\"] <-> size determined by population\n",
    "#c determines color based on value given\n",
    "    #c=\"median_house_value\" <-> price determines colors, cmap=plt.get_cmap(\"jet\") ranges from blue to red low to high\n",
    "\n",
    "housing.plot(kind=\"scatter\", x=\"longitude\", y=\"latitude\", alpha=0.4,\n",
    "        s=housing[\"population\"]/100, label=\"population\", figsize=(10,7),\n",
    "        c=\"median_house_value\", cmap=plt.get_cmap(\"jet\"), colorbar=True,\n",
    "    )\n",
    "plt.legend()"
   ]
  },
  {
   "cell_type": "code",
   "execution_count": null,
   "metadata": {},
   "outputs": [],
   "source": [
    "#use scatter matrix function to check correlation between attributes\n",
    "#diagnoals show histogram (obvious 100# correlation), off-diagonals show correlation\n",
    "from pandas.plotting import scatter_matrix\n",
    "attributes = [\"median_house_value\", \"median_income\", \"total_rooms\",\n",
    "                  \"housing_median_age\"]\n",
    "scatter_matrix(housing[attributes], figsize=(12, 8))\n",
    "plt.show()"
   ]
  },
  {
   "cell_type": "markdown",
   "metadata": {},
   "source": [
    "# Data Preprocessing"
   ]
  },
  {
   "cell_type": "code",
   "execution_count": 14,
   "metadata": {},
   "outputs": [],
   "source": [
    "# split targets (labels) and features\n",
    "housing = strat_train_set.drop(\"median_house_value\", axis=1)\n",
    "housing_labels = strat_train_set[\"median_house_value\"].copy()"
   ]
  },
  {
   "cell_type": "code",
   "execution_count": 15,
   "metadata": {},
   "outputs": [
    {
     "data": {
      "text/plain": [
       "(array([[0.],\n",
       "        [0.],\n",
       "        [4.],\n",
       "        [1.],\n",
       "        [0.],\n",
       "        [1.],\n",
       "        [0.],\n",
       "        [1.],\n",
       "        [0.],\n",
       "        [0.]]),\n",
       "       ocean_proximity\n",
       " 17606       <1H OCEAN\n",
       " 18632       <1H OCEAN\n",
       " 14650      NEAR OCEAN\n",
       " 3230           INLAND\n",
       " 3555        <1H OCEAN\n",
       " 19480          INLAND\n",
       " 8879        <1H OCEAN\n",
       " 13685          INLAND\n",
       " 4937        <1H OCEAN\n",
       " 4861        <1H OCEAN)"
      ]
     },
     "execution_count": 15,
     "metadata": {},
     "output_type": "execute_result"
    }
   ],
   "source": [
    "#can use OrdinalEncoder to make variables with text into numbers\n",
    "from sklearn.preprocessing import OrdinalEncoder \n",
    "ordinal_encoder = OrdinalEncoder()\n",
    "\n",
    "housing_cat = housing[[\"ocean_proximity\"]]\n",
    "\n",
    "housing_cat_encoded = ordinal_encoder.fit_transform(housing_cat) #this means ordinal_encoder is a transformer(type of estimator)\n",
    "housing_cat_encoded[:10], housing_cat[:10]"
   ]
  },
  {
   "cell_type": "code",
   "execution_count": 16,
   "metadata": {},
   "outputs": [
    {
     "data": {
      "text/plain": [
       "[array(['<1H OCEAN', 'INLAND', 'ISLAND', 'NEAR BAY', 'NEAR OCEAN'],\n",
       "       dtype=object)]"
      ]
     },
     "execution_count": 16,
     "metadata": {},
     "output_type": "execute_result"
    }
   ],
   "source": [
    "ordinal_encoder.categories_"
   ]
  },
  {
   "cell_type": "code",
   "execution_count": 17,
   "metadata": {},
   "outputs": [
    {
     "data": {
      "text/plain": [
       "<16512x5 sparse matrix of type '<class 'numpy.float64'>'\n",
       "\twith 16512 stored elements in Compressed Sparse Row format>"
      ]
     },
     "execution_count": 17,
     "metadata": {},
     "output_type": "execute_result"
    }
   ],
   "source": [
    "#while such encoding, i.e. labeling values 1,2,3.. works well for categories on a gradient of values, \n",
    "    #i.e. bad, good, excellent..., this does not work for our case\n",
    "#therefore onehot encoding is better\n",
    "from sklearn.preprocessing import OneHotEncoder\n",
    "cat_encoder = OneHotEncoder()\n",
    "housing_cat_1hot = cat_encoder.fit_transform(housing_cat) \n",
    "housing_cat_1hot\n",
    "#note that the result is in a sparse matrix (zeros not stored) to save memory (though it can be converted to np array)"
   ]
  },
  {
   "cell_type": "code",
   "execution_count": 18,
   "metadata": {},
   "outputs": [],
   "source": [
    "#can create custom transformers (this one is to add features containing mixtures of other features, eg bedrooms per house)\n",
    "#methods needed for transformer: fit, transform, and fit_transform. \n",
    "#first two are explicitly defined, the last is obtained by making TransformerMixin a base class\n",
    "#BaseEstimator is added as base class to obtain get_params and set_params, which are useful for hyperparameter tuning\n",
    "from sklearn.base import BaseEstimator, TransformerMixin\n",
    "\n",
    "rooms_ix, bedrooms_ix, population_ix, households_ix = 3, 4, 5, 6\n",
    "\n",
    "class CombinedAttributesAdder(BaseEstimator, TransformerMixin):\n",
    "    def __init__(self, add_bedrooms_per_room = True): # no *args or **kargs\n",
    "        self.add_bedrooms_per_room = add_bedrooms_per_room \n",
    "    def fit(self, X, y=None):\n",
    "        return self # nothing else to do \n",
    "    def transform(self, X, y=None):\n",
    "        rooms_per_household = X[:, rooms_ix] / X[:, households_ix] \n",
    "        population_per_household = X[:, population_ix] / X[:, households_ix] \n",
    "        if self.add_bedrooms_per_room:\n",
    "            bedrooms_per_room = X[:, bedrooms_ix] / X[:, rooms_ix]\n",
    "            return np.c_[X, rooms_per_household,population_per_household,bedrooms_per_room]\n",
    "        else:\n",
    "            return np.c_[X, rooms_per_household, population_per_household]\n",
    "\n",
    "attr_adder = CombinedAttributesAdder(add_bedrooms_per_room=False)\n",
    "housing_extra_attribs = attr_adder.transform(housing.values)"
   ]
  },
  {
   "cell_type": "code",
   "execution_count": 19,
   "metadata": {},
   "outputs": [],
   "source": [
    "#sklearn has Pipeline class to combine all data preprocessing\n",
    "#impute deals with missing values, scaler puts all data on same scale\n",
    "#NOTE ON SCALING: MinMax just divides by max value (all values btwn 0 and 1, but this can be changed with feature_range), \n",
    "    #StandardScaler subtracts mean and divides by standard deviation (mean 0, unit variance)\n",
    "housing_num = housing.drop(\"ocean_proximity\", axis=1)\n",
    "from sklearn.pipeline import Pipeline\n",
    "from sklearn.impute import SimpleImputer\n",
    "from sklearn.preprocessing import StandardScaler\n",
    "num_pipeline = Pipeline([\n",
    "            ('imputer', SimpleImputer(strategy=\"median\")),\n",
    "            ('attribs_adder', CombinedAttributesAdder()),\n",
    "            ('std_scaler', StandardScaler()),\n",
    "        ])\n",
    "\n",
    "#note that to execute the transformer, we call .fit_transform\n",
    "housing_num_tr = num_pipeline.fit_transform(housing_num)"
   ]
  },
  {
   "cell_type": "code",
   "execution_count": 20,
   "metadata": {},
   "outputs": [
    {
     "data": {
      "text/html": [
       "<div>\n",
       "<style scoped>\n",
       "    .dataframe tbody tr th:only-of-type {\n",
       "        vertical-align: middle;\n",
       "    }\n",
       "\n",
       "    .dataframe tbody tr th {\n",
       "        vertical-align: top;\n",
       "    }\n",
       "\n",
       "    .dataframe thead th {\n",
       "        text-align: right;\n",
       "    }\n",
       "</style>\n",
       "<table border=\"1\" class=\"dataframe\">\n",
       "  <thead>\n",
       "    <tr style=\"text-align: right;\">\n",
       "      <th></th>\n",
       "      <th>longitude</th>\n",
       "      <th>latitude</th>\n",
       "      <th>housing_median_age</th>\n",
       "      <th>total_rooms</th>\n",
       "      <th>total_bedrooms</th>\n",
       "      <th>population</th>\n",
       "      <th>households</th>\n",
       "      <th>median_income</th>\n",
       "      <th>income_cat</th>\n",
       "    </tr>\n",
       "  </thead>\n",
       "  <tbody>\n",
       "    <tr>\n",
       "      <th>17606</th>\n",
       "      <td>-121.89</td>\n",
       "      <td>37.29</td>\n",
       "      <td>38.0</td>\n",
       "      <td>1568.0</td>\n",
       "      <td>351.0</td>\n",
       "      <td>710.0</td>\n",
       "      <td>339.0</td>\n",
       "      <td>2.7042</td>\n",
       "      <td>2</td>\n",
       "    </tr>\n",
       "  </tbody>\n",
       "</table>\n",
       "</div>"
      ],
      "text/plain": [
       "       longitude  latitude  housing_median_age  total_rooms  total_bedrooms  \\\n",
       "17606    -121.89     37.29                38.0       1568.0           351.0   \n",
       "\n",
       "       population  households  median_income income_cat  \n",
       "17606       710.0       339.0         2.7042          2  "
      ]
     },
     "execution_count": 20,
     "metadata": {},
     "output_type": "execute_result"
    }
   ],
   "source": [
    "housing_num.head(1)"
   ]
  },
  {
   "cell_type": "code",
   "execution_count": 21,
   "metadata": {},
   "outputs": [
    {
     "data": {
      "text/plain": [
       "(array([-1.15604281,  0.77194962,  0.74333089, -0.49323393, -0.44543821,\n",
       "        -0.63621141, -0.42069842, -0.61493744, -0.95445595, -0.31205452,\n",
       "        -0.08649871,  0.15531753]),\n",
       " (16512, 12))"
      ]
     },
     "execution_count": 21,
     "metadata": {},
     "output_type": "execute_result"
    }
   ],
   "source": [
    "housing_num_tr[0], housing_num_tr.shape"
   ]
  },
  {
   "cell_type": "code",
   "execution_count": 22,
   "metadata": {},
   "outputs": [],
   "source": [
    "#Can combine categorical and numerical column preprocessing with ColumnTransformer\n",
    "from sklearn.compose import ColumnTransformer \n",
    "num_attribs = list(housing_num)\n",
    "cat_attribs = [\"ocean_proximity\"]\n",
    "full_pipeline = ColumnTransformer([\n",
    "             #(\"transformer_name\", transformer, column_names)\n",
    "             (\"num\", num_pipeline, num_attribs),\n",
    "             (\"cat\", OneHotEncoder(), cat_attribs),\n",
    "         ])\n",
    "housing_prepared = full_pipeline.fit_transform(housing)"
   ]
  },
  {
   "cell_type": "markdown",
   "metadata": {},
   "source": [
    "# Build, Train, and Test a Model"
   ]
  },
  {
   "cell_type": "markdown",
   "metadata": {},
   "source": [
    "### Linear Regression"
   ]
  },
  {
   "cell_type": "code",
   "execution_count": 23,
   "metadata": {},
   "outputs": [
    {
     "data": {
      "text/plain": [
       "LinearRegression()"
      ]
     },
     "execution_count": 23,
     "metadata": {},
     "output_type": "execute_result"
    }
   ],
   "source": [
    "#fit the model\n",
    "from sklearn.linear_model import LinearRegression \n",
    "lin_reg = LinearRegression()\n",
    "lin_reg.fit(housing_prepared, housing_labels)"
   ]
  },
  {
   "cell_type": "code",
   "execution_count": 24,
   "metadata": {},
   "outputs": [
    {
     "name": "stdout",
     "output_type": "stream",
     "text": [
      "Predictions: [203682.37379543 326371.39370781 204218.64588245  58685.4770482\n",
      " 194213.06443039]\n",
      "Labels: [286600.0, 340600.0, 196900.0, 46300.0, 254500.0]\n"
     ]
    }
   ],
   "source": [
    "# test some individual examples\n",
    "some_data = housing.iloc[:5]\n",
    "some_labels = housing_labels.iloc[:5]\n",
    "some_data_prepared = full_pipeline.transform(some_data)\n",
    "print(\"Predictions:\", lin_reg.predict(some_data_prepared))\n",
    "print(\"Labels:\", list(some_labels))"
   ]
  },
  {
   "cell_type": "code",
   "execution_count": 25,
   "metadata": {},
   "outputs": [
    {
     "data": {
      "text/plain": [
       "68376.64295459937"
      ]
     },
     "execution_count": 25,
     "metadata": {},
     "output_type": "execute_result"
    }
   ],
   "source": [
    "#get rmse\n",
    "from sklearn.metrics import mean_squared_error\n",
    "housing_predictions = lin_reg.predict(housing_prepared)\n",
    "lin_mse = mean_squared_error(housing_labels, housing_predictions)\n",
    "lin_rmse = np.sqrt(lin_mse)\n",
    "\n",
    "#the rmse is very high, so it is likely that the model is underfitting the data\n",
    "#note that the rmse is 68k, when the median housing price is on the order of 200k (see housing.describe())\n",
    "lin_rmse"
   ]
  },
  {
   "cell_type": "markdown",
   "metadata": {},
   "source": [
    "### Decision Tree"
   ]
  },
  {
   "cell_type": "code",
   "execution_count": 26,
   "metadata": {},
   "outputs": [
    {
     "data": {
      "text/plain": [
       "DecisionTreeRegressor()"
      ]
     },
     "execution_count": 26,
     "metadata": {},
     "output_type": "execute_result"
    }
   ],
   "source": [
    "from sklearn.tree import DecisionTreeRegressor \n",
    "tree_reg = DecisionTreeRegressor()\n",
    "tree_reg.fit(housing_prepared, housing_labels)"
   ]
  },
  {
   "cell_type": "code",
   "execution_count": 27,
   "metadata": {},
   "outputs": [
    {
     "data": {
      "text/plain": [
       "0.0"
      ]
     },
     "execution_count": 27,
     "metadata": {},
     "output_type": "execute_result"
    }
   ],
   "source": [
    "housing_predictions = tree_reg.predict(housing_prepared)\n",
    "tree_mse = mean_squared_error(housing_labels, housing_predictions)\n",
    "tree_rmse = np.sqrt(tree_mse)\n",
    "\n",
    "#the rmse is 0, so the decision tree likely overfits to training data\n",
    "tree_rmse"
   ]
  },
  {
   "cell_type": "code",
   "execution_count": 28,
   "metadata": {},
   "outputs": [],
   "source": [
    "#check validity of model by doing 10-fold cross-validation on training data\n",
    "#cross_val_score returns the score for each fold based on the scoring criteria (here we use the negative mse)\n",
    "#note that housing_prepared is the pipelined/processed version of housing; \n",
    "    #housing is obtained from housing = strat_train_set.drop(\"median_house_value\", axis=1)\n",
    "    #housing is thus from the stratified sampling of the train set\n",
    "from sklearn.model_selection import cross_val_score\n",
    "scores = cross_val_score(tree_reg, housing_prepared, housing_labels,\n",
    "                             scoring=\"neg_mean_squared_error\", cv=10)\n",
    "tree_rmse_scores = np.sqrt(-scores)"
   ]
  },
  {
   "cell_type": "code",
   "execution_count": 31,
   "metadata": {},
   "outputs": [
    {
     "name": "stdout",
     "output_type": "stream",
     "text": [
      "Scores: [68789.97843587 66583.59979958 70438.55967748 67800.68288234\n",
      " 70258.62217286 75628.99817394 69887.24109071 70449.49474047\n",
      " 77010.65895404 69344.95488802]\n",
      "Mean: 70619.27908153067\n",
      "Standard deviation: 3096.3833114453246\n"
     ]
    }
   ],
   "source": [
    "def display_scores(scores):\n",
    "   print(\"Scores:\", scores)\n",
    "   print(\"Mean:\", scores.mean())\n",
    "   print(\"Standard deviation:\", scores.std())\n",
    "\n",
    "#decision tree does not perform nearly as well when tested with x-val\n",
    "display_scores(tree_rmse_scores)"
   ]
  },
  {
   "cell_type": "markdown",
   "metadata": {},
   "source": [
    "### Random Forest"
   ]
  },
  {
   "cell_type": "code",
   "execution_count": 36,
   "metadata": {},
   "outputs": [
    {
     "name": "stdout",
     "output_type": "stream",
     "text": [
      "Scores: [49474.17800245 47625.39297    50133.48376281 51820.39085031\n",
      " 49877.76875271 53429.39984734 48773.89156718 48057.86497068\n",
      " 52820.90826107 50523.62163728]\n",
      "Mean: 50253.69006218288\n",
      "Standard deviation: 1840.8139176619718\n"
     ]
    }
   ],
   "source": [
    "from sklearn.ensemble import RandomForestRegressor\n",
    "forest_reg = RandomForestRegressor()\n",
    "forest_reg.fit(housing_prepared, housing_labels)\n",
    "housing_predictions = forest_reg.predict(housing_prepared)\n",
    "forest_mse = mean_squared_error(housing_labels, housing_predictions)\n",
    "forest_rmse = np.sqrt(forest_mse)\n",
    "\n",
    "scores = cross_val_score(forest_reg, housing_prepared, housing_labels,\n",
    "                             scoring=\"neg_mean_squared_error\", cv=10)\n",
    "forest_rmse_scores = np.sqrt(-scores)\n",
    "\n",
    "#random forest performs better than decision tree (mean score is 50k vs 70k)\n",
    "display_scores(forest_rmse_scores)"
   ]
  },
  {
   "cell_type": "code",
   "execution_count": 37,
   "metadata": {
    "scrolled": true
   },
   "outputs": [
    {
     "data": {
      "text/plain": [
       "18615.369526644638"
      ]
     },
     "execution_count": 37,
     "metadata": {},
     "output_type": "execute_result"
    }
   ],
   "source": [
    "#forest still tends to overfit given the training rmse is significantly less\n",
    "forest_rmse"
   ]
  },
  {
   "cell_type": "markdown",
   "metadata": {},
   "source": [
    "### RF Grid Search"
   ]
  },
  {
   "cell_type": "code",
   "execution_count": 38,
   "metadata": {},
   "outputs": [
    {
     "data": {
      "text/plain": [
       "GridSearchCV(cv=5, estimator=RandomForestRegressor(),\n",
       "             param_grid=[{'max_features': [2, 4, 6, 8],\n",
       "                          'n_estimators': [3, 10, 30]},\n",
       "                         {'bootstrap': [False], 'max_features': [2, 3, 4],\n",
       "                          'n_estimators': [3, 10]}],\n",
       "             return_train_score=True, scoring='neg_mean_squared_error')"
      ]
     },
     "execution_count": 38,
     "metadata": {},
     "output_type": "execute_result"
    }
   ],
   "source": [
    "from sklearn.model_selection import GridSearchCV\n",
    "\n",
    "#first optimize based on parameters in first dictionary (3 n_estimators, 4 max_features -> 3x4=12 total combos)\n",
    "#then optimize next dictionary from scratch, where bootstrap = false (2 n_estimators, 3 max_features -> 2x3=6 total combos)\n",
    "#12+6=18 total models; with 5-fold cv, 18x5=90 rounds of training\n",
    "param_grid = [\n",
    "        {'n_estimators': [3, 10, 30], 'max_features': [2, 4, 6, 8]},\n",
    "        {'bootstrap': [False], 'n_estimators': [3, 10], 'max_features': [2, 3, 4]},\n",
    "]\n",
    "forest_reg = RandomForestRegressor()\n",
    "grid_search = GridSearchCV(forest_reg, param_grid, cv=5,\n",
    "                               scoring='neg_mean_squared_error',\n",
    "                               return_train_score=True)\n",
    "grid_search.fit(housing_prepared, housing_labels)"
   ]
  },
  {
   "cell_type": "code",
   "execution_count": 41,
   "metadata": {},
   "outputs": [
    {
     "data": {
      "text/plain": [
       "({'max_features': 8, 'n_estimators': 30},\n",
       " RandomForestRegressor(max_features=8, n_estimators=30))"
      ]
     },
     "execution_count": 41,
     "metadata": {},
     "output_type": "execute_result"
    }
   ],
   "source": [
    "#can see best estimator and params\n",
    "grid_search.best_params_, grid_search.best_estimator_"
   ]
  },
  {
   "cell_type": "code",
   "execution_count": 42,
   "metadata": {},
   "outputs": [
    {
     "name": "stdout",
     "output_type": "stream",
     "text": [
      "64369.79470871667 {'max_features': 2, 'n_estimators': 3}\n",
      "55873.90381524183 {'max_features': 2, 'n_estimators': 10}\n",
      "53203.885499071024 {'max_features': 2, 'n_estimators': 30}\n",
      "61503.398694961164 {'max_features': 4, 'n_estimators': 3}\n",
      "53750.637745190645 {'max_features': 4, 'n_estimators': 10}\n",
      "51638.34235452476 {'max_features': 4, 'n_estimators': 30}\n",
      "60147.175975114005 {'max_features': 6, 'n_estimators': 3}\n",
      "53240.25905815541 {'max_features': 6, 'n_estimators': 10}\n",
      "51050.12497582836 {'max_features': 6, 'n_estimators': 30}\n",
      "60039.27591402615 {'max_features': 8, 'n_estimators': 3}\n",
      "52579.9153646969 {'max_features': 8, 'n_estimators': 10}\n",
      "50607.81557511138 {'max_features': 8, 'n_estimators': 30}\n",
      "62670.31546653862 {'bootstrap': False, 'max_features': 2, 'n_estimators': 3}\n",
      "54430.15908189295 {'bootstrap': False, 'max_features': 2, 'n_estimators': 10}\n",
      "61356.26363352558 {'bootstrap': False, 'max_features': 3, 'n_estimators': 3}\n",
      "53507.789971259765 {'bootstrap': False, 'max_features': 3, 'n_estimators': 10}\n",
      "59984.88305783448 {'bootstrap': False, 'max_features': 4, 'n_estimators': 3}\n",
      "52833.19057679833 {'bootstrap': False, 'max_features': 4, 'n_estimators': 10}\n"
     ]
    }
   ],
   "source": [
    "#can also look at all of the trees created (there should be 18, since 12+6=18)\n",
    "cvres = grid_search.cv_results_\n",
    "for mean_score, params in zip(cvres[\"mean_test_score\"], cvres[\"params\"]):\n",
    "    print(np.sqrt(-mean_score), params)"
   ]
  },
  {
   "cell_type": "code",
   "execution_count": 44,
   "metadata": {},
   "outputs": [
    {
     "data": {
      "text/plain": [
       "{'mean_fit_time': array([0.07676706, 0.2366488 , 0.70608401, 0.10236301, 0.35294261,\n",
       "        1.03855147, 0.14041524, 0.49628735, 1.54682913, 0.22261958,\n",
       "        0.66715317, 1.99908509, 0.10712667, 0.35650773, 0.14483943,\n",
       "        0.4911871 , 0.18239779, 0.65062356]),\n",
       " 'std_fit_time': array([0.01323898, 0.02443158, 0.0269647 , 0.00646691, 0.02264608,\n",
       "        0.07906387, 0.00313683, 0.03029053, 0.07885866, 0.02391589,\n",
       "        0.02822105, 0.0456516 , 0.00354617, 0.00592164, 0.00370729,\n",
       "        0.01630565, 0.00914961, 0.06343551]),\n",
       " 'mean_score_time': array([0.00419259, 0.0138576 , 0.03389783, 0.00398059, 0.01192646,\n",
       "        0.03074374, 0.00372972, 0.01038685, 0.03565555, 0.00510774,\n",
       "        0.0117568 , 0.03637972, 0.0051228 , 0.01265869, 0.00474257,\n",
       "        0.0133574 , 0.00480824, 0.01617966]),\n",
       " 'std_score_time': array([0.00047235, 0.00183563, 0.00259715, 0.00059968, 0.00297839,\n",
       "        0.00191091, 0.00038338, 0.00089993, 0.00411063, 0.00092964,\n",
       "        0.0010851 , 0.00835133, 0.00058251, 0.00180847, 0.0006032 ,\n",
       "        0.00188515, 0.00060952, 0.00379694]),\n",
       " 'param_max_features': masked_array(data=[2, 2, 2, 4, 4, 4, 6, 6, 6, 8, 8, 8, 2, 2, 3, 3, 4, 4],\n",
       "              mask=[False, False, False, False, False, False, False, False,\n",
       "                    False, False, False, False, False, False, False, False,\n",
       "                    False, False],\n",
       "        fill_value='?',\n",
       "             dtype=object),\n",
       " 'param_n_estimators': masked_array(data=[3, 10, 30, 3, 10, 30, 3, 10, 30, 3, 10, 30, 3, 10, 3,\n",
       "                    10, 3, 10],\n",
       "              mask=[False, False, False, False, False, False, False, False,\n",
       "                    False, False, False, False, False, False, False, False,\n",
       "                    False, False],\n",
       "        fill_value='?',\n",
       "             dtype=object),\n",
       " 'param_bootstrap': masked_array(data=[--, --, --, --, --, --, --, --, --, --, --, --, False,\n",
       "                    False, False, False, False, False],\n",
       "              mask=[ True,  True,  True,  True,  True,  True,  True,  True,\n",
       "                     True,  True,  True,  True, False, False, False, False,\n",
       "                    False, False],\n",
       "        fill_value='?',\n",
       "             dtype=object),\n",
       " 'params': [{'max_features': 2, 'n_estimators': 3},\n",
       "  {'max_features': 2, 'n_estimators': 10},\n",
       "  {'max_features': 2, 'n_estimators': 30},\n",
       "  {'max_features': 4, 'n_estimators': 3},\n",
       "  {'max_features': 4, 'n_estimators': 10},\n",
       "  {'max_features': 4, 'n_estimators': 30},\n",
       "  {'max_features': 6, 'n_estimators': 3},\n",
       "  {'max_features': 6, 'n_estimators': 10},\n",
       "  {'max_features': 6, 'n_estimators': 30},\n",
       "  {'max_features': 8, 'n_estimators': 3},\n",
       "  {'max_features': 8, 'n_estimators': 10},\n",
       "  {'max_features': 8, 'n_estimators': 30},\n",
       "  {'bootstrap': False, 'max_features': 2, 'n_estimators': 3},\n",
       "  {'bootstrap': False, 'max_features': 2, 'n_estimators': 10},\n",
       "  {'bootstrap': False, 'max_features': 3, 'n_estimators': 3},\n",
       "  {'bootstrap': False, 'max_features': 3, 'n_estimators': 10},\n",
       "  {'bootstrap': False, 'max_features': 4, 'n_estimators': 3},\n",
       "  {'bootstrap': False, 'max_features': 4, 'n_estimators': 10}],\n",
       " 'split0_test_score': array([-4.09665884e+09, -2.88143660e+09, -2.73518173e+09, -3.73684117e+09,\n",
       "        -2.66516995e+09, -2.53542206e+09, -3.55325369e+09, -2.65728454e+09,\n",
       "        -2.50217022e+09, -3.81073194e+09, -2.67874017e+09, -2.38925731e+09,\n",
       "        -4.08937360e+09, -2.74713642e+09, -3.61945844e+09, -2.74355107e+09,\n",
       "        -3.40567066e+09, -2.66692334e+09]),\n",
       " 'split1_test_score': array([-4.12532918e+09, -3.28032690e+09, -2.89865623e+09, -3.63377577e+09,\n",
       "        -2.95134185e+09, -2.71708432e+09, -3.62172110e+09, -2.80447325e+09,\n",
       "        -2.59385475e+09, -3.54260364e+09, -2.74124283e+09, -2.63076151e+09,\n",
       "        -4.06487420e+09, -2.92516141e+09, -3.88626039e+09, -2.85153588e+09,\n",
       "        -3.86455077e+09, -2.77453894e+09]),\n",
       " 'split2_test_score': array([-4.08168550e+09, -3.32260684e+09, -2.98600157e+09, -4.08076648e+09,\n",
       "        -3.06723895e+09, -2.85298372e+09, -3.68007318e+09, -3.08626005e+09,\n",
       "        -2.72074497e+09, -3.66831620e+09, -2.83803591e+09, -2.69785442e+09,\n",
       "        -3.86521280e+09, -3.23578267e+09, -4.08970733e+09, -3.02798570e+09,\n",
       "        -3.46045576e+09, -2.97274459e+09]),\n",
       " 'split3_test_score': array([-3.99240707e+09, -2.89006547e+09, -2.64889356e+09, -3.59045104e+09,\n",
       "        -2.73432219e+09, -2.46639778e+09, -3.52204855e+09, -2.68753140e+09,\n",
       "        -2.50872273e+09, -3.24900282e+09, -2.64322195e+09, -2.37959387e+09,\n",
       "        -3.69174551e+09, -2.77486132e+09, -3.65337679e+09, -2.83408516e+09,\n",
       "        -3.33902356e+09, -2.72581561e+09]),\n",
       " 'split4_test_score': array([-4.42127176e+09, -3.23502983e+09, -2.88453407e+09, -3.87150580e+09,\n",
       "        -3.02758236e+09, -2.76070413e+09, -3.71131737e+09, -2.93707669e+09,\n",
       "        -2.70508362e+09, -3.75291867e+09, -2.92199663e+09, -2.70828788e+09,\n",
       "        -3.92663610e+09, -3.13026927e+09, -3.57415249e+09, -2.85826012e+09,\n",
       "        -3.92123023e+09, -2.81670765e+09]),\n",
       " 'mean_test_score': array([-4.14347047e+09, -3.12189313e+09, -2.83065343e+09, -3.78266805e+09,\n",
       "        -2.88913106e+09, -2.66651840e+09, -3.61768278e+09, -2.83452518e+09,\n",
       "        -2.60611526e+09, -3.60471465e+09, -2.76464750e+09, -2.56115100e+09,\n",
       "        -3.92756844e+09, -2.96264222e+09, -3.76459109e+09, -2.86308359e+09,\n",
       "        -3.59818620e+09, -2.79134603e+09]),\n",
       " 'std_test_score': array([1.45829712e+08, 1.94807888e+08, 1.21500654e+08, 1.77747692e+08,\n",
       "        1.60552627e+08, 1.43827462e+08, 7.20740166e+07, 1.59882327e+08,\n",
       "        9.31395758e+07, 1.99419857e+08, 1.02778033e+08, 1.46760445e+08,\n",
       "        1.44592761e+08, 1.92776431e+08, 1.95039973e+08, 9.21718518e+07,\n",
       "        2.44337761e+08, 1.03543585e+08]),\n",
       " 'rank_test_score': array([18, 11,  6, 16,  9,  3, 14,  7,  2, 13,  4,  1, 17, 10, 15,  8, 12,\n",
       "         5], dtype=int32),\n",
       " 'split0_train_score': array([-1.15244128e+09, -5.99702865e+08, -4.57011552e+08, -9.73069666e+08,\n",
       "        -5.42492035e+08, -4.10693653e+08, -9.64039929e+08, -5.37363083e+08,\n",
       "        -4.11029098e+08, -9.27901683e+08, -5.12467612e+08, -3.89954507e+08,\n",
       "        -0.00000000e+00, -2.36581119e+02, -0.00000000e+00, -0.00000000e+00,\n",
       "        -0.00000000e+00, -0.00000000e+00]),\n",
       " 'split1_train_score': array([-1.08240194e+09, -5.80211217e+08, -4.30498936e+08, -9.17389099e+08,\n",
       "        -5.27044044e+08, -4.02045154e+08, -9.43741482e+08, -5.08559034e+08,\n",
       "        -3.86812984e+08, -8.73589497e+08, -5.39990847e+08, -3.98659034e+08,\n",
       "        -0.00000000e+00, -0.00000000e+00, -0.00000000e+00, -9.46324476e+02,\n",
       "        -0.00000000e+00, -0.00000000e+00]),\n",
       " 'split2_train_score': array([-1.06386482e+09, -5.66090432e+08, -4.31988797e+08, -1.04575903e+09,\n",
       "        -5.28620298e+08, -4.05870618e+08, -9.39434412e+08, -5.15327845e+08,\n",
       "        -3.93671059e+08, -9.47346212e+08, -4.90882234e+08, -3.93859439e+08,\n",
       "        -1.07662545e+03, -0.00000000e+00, -6.07284044e+01, -0.00000000e+00,\n",
       "        -0.00000000e+00, -0.00000000e+00]),\n",
       " 'split3_train_score': array([-1.06062873e+09, -5.74190401e+08, -4.46454965e+08, -9.90904804e+08,\n",
       "        -5.57126362e+08, -4.06023051e+08, -9.40321840e+08, -5.47671828e+08,\n",
       "        -4.13190229e+08, -9.27562457e+08, -5.31817303e+08, -4.01624181e+08,\n",
       "        -0.00000000e+00, -0.00000000e+00, -0.00000000e+00, -0.00000000e+00,\n",
       "        -0.00000000e+00, -0.00000000e+00]),\n",
       " 'split4_train_score': array([-1.11213705e+09, -5.68974354e+08, -4.37102944e+08, -9.95838539e+08,\n",
       "        -5.38638340e+08, -4.02730161e+08, -9.24521360e+08, -5.19629703e+08,\n",
       "        -3.97470453e+08, -9.18840729e+08, -5.18179596e+08, -3.95948213e+08,\n",
       "        -0.00000000e+00, -0.00000000e+00, -2.62848011e+03, -0.00000000e+00,\n",
       "        -0.00000000e+00, -0.00000000e+00]),\n",
       " 'mean_train_score': array([-1.09429476e+09, -5.77833854e+08, -4.40611439e+08, -9.84592228e+08,\n",
       "        -5.38784216e+08, -4.05472528e+08, -9.42411805e+08, -5.25710299e+08,\n",
       "        -4.00434765e+08, -9.19048115e+08, -5.18667518e+08, -3.96009075e+08,\n",
       "        -2.15325090e+02, -4.73162238e+01, -5.37841702e+02, -1.89264895e+02,\n",
       "         0.00000000e+00,  0.00000000e+00]),\n",
       " 'std_train_score': array([3.43516738e+07, 1.19463713e+07, 9.92000720e+06, 4.13684332e+07,\n",
       "        1.08751127e+07, 3.06558848e+06, 1.26715795e+07, 1.45398143e+07,\n",
       "        1.01491826e+07, 2.45690493e+07, 1.69605433e+07, 3.99585104e+06,\n",
       "        4.30650181e+02, 9.46324476e+01, 1.04558377e+03, 3.78529790e+02,\n",
       "        0.00000000e+00, 0.00000000e+00])}"
      ]
     },
     "execution_count": 44,
     "metadata": {},
     "output_type": "execute_result"
    }
   ],
   "source": [
    "grid_search.cv_results_"
   ]
  },
  {
   "cell_type": "code",
   "execution_count": 45,
   "metadata": {},
   "outputs": [
    {
     "data": {
      "text/plain": [
       "array([6.19521041e-02, 5.51952192e-02, 4.57781090e-02, 1.58397111e-02,\n",
       "       1.61349920e-02, 1.47751463e-02, 1.45845949e-02, 3.68663685e-01,\n",
       "       8.72741329e-02, 2.81278760e-02, 1.10284514e-01, 3.85753703e-02,\n",
       "       4.34999346e-03, 1.33163671e-01, 4.02978716e-05, 1.90810002e-03,\n",
       "       3.35248326e-03])"
      ]
     },
     "execution_count": 45,
     "metadata": {},
     "output_type": "execute_result"
    }
   ],
   "source": [
    "feature_importances = grid_search.best_estimator_.feature_importances_\n",
    "feature_importances"
   ]
  },
  {
   "cell_type": "code",
   "execution_count": 46,
   "metadata": {},
   "outputs": [
    {
     "data": {
      "text/plain": [
       "[(0.36866368478112027, 'median_income'),\n",
       " (0.1331636708904648, 'INLAND'),\n",
       " (0.11028451384963367, 'pop_per_hhold'),\n",
       " (0.0872741329198177, 'income_cat'),\n",
       " (0.061952104061098766, 'longitude'),\n",
       " (0.055195219190240695, 'latitude'),\n",
       " (0.04577810901591991, 'housing_median_age'),\n",
       " (0.03857537030956091, 'bedrooms_per_room'),\n",
       " (0.028127875994152608, 'rooms_per_hhold'),\n",
       " (0.016134992049824808, 'total_bedrooms'),\n",
       " (0.015839711107846616, 'total_rooms'),\n",
       " (0.014775146337607776, 'population'),\n",
       " (0.01458459489257445, 'households'),\n",
       " (0.0043499934554109875, '<1H OCEAN'),\n",
       " (0.0033524832575694817, 'NEAR OCEAN'),\n",
       " (0.0019081000156029686, 'NEAR BAY'),\n",
       " (4.029787155349414e-05, 'ISLAND')]"
      ]
     },
     "execution_count": 46,
     "metadata": {},
     "output_type": "execute_result"
    }
   ],
   "source": [
    "extra_attribs = [\"rooms_per_hhold\", \"pop_per_hhold\", \"bedrooms_per_room\"]\n",
    "cat_encoder = full_pipeline.named_transformers_[\"cat\"]\n",
    "cat_one_hot_attribs = list(cat_encoder.categories_[0]) #gets non-numerical (categorical) features\n",
    "attributes = num_attribs + extra_attribs + cat_one_hot_attribs\n",
    "sorted(zip(feature_importances, attributes), reverse=True)\n",
    "\n",
    "#median income is the most important variable!"
   ]
  },
  {
   "cell_type": "code",
   "execution_count": 50,
   "metadata": {},
   "outputs": [],
   "source": [
    "#Testing the \n",
    "final_model = grid_search.best_estimator_\n",
    "X_test = strat_test_set.drop(\"median_house_value\", axis=1)\n",
    "y_test = strat_test_set[\"median_house_value\"].copy()\n",
    "X_test_prepared = full_pipeline.transform(X_test)\n",
    "final_predictions = final_model.predict(X_test_prepared)\n",
    "final_mse = mean_squared_error(y_test, final_predictions) \n",
    "final_rmse = np.sqrt(final_mse) # => evaluates to 47,730.2"
   ]
  },
  {
   "cell_type": "code",
   "execution_count": 51,
   "metadata": {},
   "outputs": [
    {
     "data": {
      "text/plain": [
       "48751.544873043065"
      ]
     },
     "execution_count": 51,
     "metadata": {},
     "output_type": "execute_result"
    }
   ],
   "source": [
    "final_rmse"
   ]
  },
  {
   "cell_type": "code",
   "execution_count": 52,
   "metadata": {},
   "outputs": [
    {
     "data": {
      "text/plain": [
       "array([46759.38941223, 50665.42960256])"
      ]
     },
     "execution_count": 52,
     "metadata": {},
     "output_type": "execute_result"
    }
   ],
   "source": [
    "#We can generate a 95% confidence interval around the rmse to get a feel for how good our estimate of the final rmse is\n",
    "from scipy import stats\n",
    "confidence = 0.95\n",
    "squared_errors = (final_predictions - y_test) ** 2\n",
    "\n",
    "#lower bound is bottom 5% threshold, upper bound is top 5% threshold\n",
    "np.sqrt(stats.t.interval(confidence, len(squared_errors) - 1,loc=squared_errors.mean(),scale=stats.sem(squared_errors)))"
   ]
  }
 ],
 "metadata": {
  "kernelspec": {
   "display_name": "Python 3",
   "language": "python",
   "name": "python3"
  },
  "language_info": {
   "codemirror_mode": {
    "name": "ipython",
    "version": 3
   },
   "file_extension": ".py",
   "mimetype": "text/x-python",
   "name": "python",
   "nbconvert_exporter": "python",
   "pygments_lexer": "ipython3",
   "version": "3.8.3"
  }
 },
 "nbformat": 4,
 "nbformat_minor": 4
}
